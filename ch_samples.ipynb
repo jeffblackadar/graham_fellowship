{
  "nbformat": 4,
  "nbformat_minor": 0,
  "metadata": {
    "colab": {
      "name": "ch_samples.ipynb",
      "provenance": [],
      "collapsed_sections": [],
      "mount_file_id": "1w31cR4U0zIXFPHrZApkFiZaEcQY9Um-W",
      "authorship_tag": "ABX9TyOS3AFuxiRXE6ji5v9YXBzZ",
      "include_colab_link": true
    },
    "kernelspec": {
      "name": "python3",
      "display_name": "Python 3"
    }
  },
  "cells": [
    {
      "cell_type": "markdown",
      "metadata": {
        "id": "view-in-github",
        "colab_type": "text"
      },
      "source": [
        "<a href=\"https://colab.research.google.com/github/jeffblackadar/graham_fellowship/blob/master/ch_samples.ipynb\" target=\"_parent\"><img src=\"https://colab.research.google.com/assets/colab-badge.svg\" alt=\"Open In Colab\"/></a>"
      ]
    },
    {
      "cell_type": "markdown",
      "metadata": {
        "id": "Fv5y4NT4Rp4_"
      },
      "source": [
        "# Select points for quality assurance randomly.\n",
        "## Objective: Select prediction points for quality assurance by a human being using a low bias manner.\n",
        "For each State Game Land, select 20 points to check from bins of points separated by confidence score. Bin 1 has points of with the lowest confidence.\n",
        "\n",
        "## Bins (5 of them): \n",
        "1. 0.70 >= and < 0.80 \n",
        "2. 0.80 >= and < 0.85 \n",
        "3. 0.85 >= and < 0.90 \n",
        "4. 0.90 >= and < 0.95 \n",
        "5. 0.95 >= \n",
        "\n",
        "## State game lands 217, 13, 51, 39, 83, 76, 33, 37\n",
        "\n",
        "## Program function\n",
        "For each State Game Land points are selected that fall inside its boudarie from a large list of predictions.\n",
        "These points are separated into bins according to their confidence score.\n",
        "4 points from each of the 5 bins are randomly selected. If a bin has four or fewer points, all of the points are selected.\n",
        "A shapefile containing the points inside it is saved for each state game land. Each point has fields bin (1-5) and a bin_select (1 = randomly selected or 0 = not).\n",
        "\n",
        "## Program inputs\n",
        "* PGC_StateGamelan2018 WGS84_UTMzone18N.shp - The shapes of the PA State Game Lands\n",
        "* Jeff_Predict_8_30_Ben_106_32128_buffer_count_centroid.shp - All of the points the model predicted.\n",
        "\n",
        "## Program outputs\n",
        "For each of the selected State Game Lands\n",
        "* sample_predictions_binned_sgl_.shp"
      ]
    },
    {
      "cell_type": "code",
      "metadata": {
        "id": "FYElS8zDAoy8",
        "outputId": "ca8aec9b-1036-4147-b2eb-085995c7ccc2",
        "colab": {
          "base_uri": "https://localhost:8080/",
          "height": 34
        }
      },
      "source": [
        "from google.colab import drive\n",
        "drive.mount('/content/drive')"
      ],
      "execution_count": null,
      "outputs": [
        {
          "output_type": "stream",
          "text": [
            "Drive already mounted at /content/drive; to attempt to forcibly remount, call drive.mount(\"/content/drive\", force_remount=True).\n"
          ],
          "name": "stdout"
        }
      ]
    },
    {
      "cell_type": "code",
      "metadata": {
        "id": "AcfIc9fIF48T",
        "outputId": "c5549875-fbad-4f00-b34b-df666f0b7130",
        "colab": {
          "base_uri": "https://localhost:8080/",
          "height": 275
        }
      },
      "source": [
        "!pip install geopandas"
      ],
      "execution_count": 16,
      "outputs": [
        {
          "output_type": "stream",
          "text": [
            "Requirement already satisfied: geopandas in /usr/local/lib/python3.6/dist-packages (0.8.1)\n",
            "Requirement already satisfied: pandas>=0.23.0 in /usr/local/lib/python3.6/dist-packages (from geopandas) (1.1.2)\n",
            "Requirement already satisfied: shapely in /usr/local/lib/python3.6/dist-packages (from geopandas) (1.7.1)\n",
            "Requirement already satisfied: pyproj>=2.2.0 in /usr/local/lib/python3.6/dist-packages (from geopandas) (2.6.1.post1)\n",
            "Requirement already satisfied: fiona in /usr/local/lib/python3.6/dist-packages (from geopandas) (1.8.17)\n",
            "Requirement already satisfied: pytz>=2017.2 in /usr/local/lib/python3.6/dist-packages (from pandas>=0.23.0->geopandas) (2018.9)\n",
            "Requirement already satisfied: python-dateutil>=2.7.3 in /usr/local/lib/python3.6/dist-packages (from pandas>=0.23.0->geopandas) (2.8.1)\n",
            "Requirement already satisfied: numpy>=1.15.4 in /usr/local/lib/python3.6/dist-packages (from pandas>=0.23.0->geopandas) (1.18.5)\n",
            "Requirement already satisfied: click<8,>=4.0 in /usr/local/lib/python3.6/dist-packages (from fiona->geopandas) (7.1.2)\n",
            "Requirement already satisfied: cligj>=0.5 in /usr/local/lib/python3.6/dist-packages (from fiona->geopandas) (0.5.0)\n",
            "Requirement already satisfied: attrs>=17 in /usr/local/lib/python3.6/dist-packages (from fiona->geopandas) (20.2.0)\n",
            "Requirement already satisfied: six>=1.7 in /usr/local/lib/python3.6/dist-packages (from fiona->geopandas) (1.15.0)\n",
            "Requirement already satisfied: munch in /usr/local/lib/python3.6/dist-packages (from fiona->geopandas) (2.5.0)\n",
            "Requirement already satisfied: click-plugins>=1.0 in /usr/local/lib/python3.6/dist-packages (from fiona->geopandas) (1.1.1)\n"
          ],
          "name": "stdout"
        }
      ]
    },
    {
      "cell_type": "code",
      "metadata": {
        "id": "ygGZDokIAtvs",
        "outputId": "c2f09374-1de0-4a72-8b06-af37c54cf44e",
        "colab": {
          "base_uri": "https://localhost:8080/",
          "height": 323
        }
      },
      "source": [
        "#https://gis.stackexchange.com/questions/92207/split-a-large-geotiff-into-smaller-regions-with-python-and-gdal\n",
        "import os  \n",
        "import numpy\n",
        "from osgeo import gdal, osr\n",
        "import math\n",
        "from itertools import chain\n",
        "import geopandas as gpd\n",
        "from shapely.geometry import Point, Polygon\n",
        "import numpy as np\n",
        "import gdalnumeric\n",
        "import random\n",
        "\n",
        "\n",
        "\n",
        "shp_output_folder = \"/content/drive/My Drive/MaskCNNhearths/predictions/selections/\"\n",
        "\n",
        "sgl_polys = gpd.read_file(\"/content/drive/My Drive/MaskCNNhearths/Weston_Uploads/Shapefiles/PGC_StateGamelan2018 WGS84_UTMzone18N.shp\")\n",
        "sgl_polys = sgl_polys.to_crs(32128)\n",
        "#32618\n",
        "#print(sgl_polys)\n",
        "\n",
        "#List of selected State Game Lands\n",
        "#  \n",
        "selected_sgls = [217, 13, 51, 39, 83, 76, 33, 37]\n",
        "\n",
        "\n",
        "#Do it by steps of bins --- 4 per bin\n",
        "\n",
        "for selected_sgls_cn in range(0,len(selected_sgls)):\n",
        "    for index, row in sgl_polys.iterrows():\n",
        "        sgl = row['SGL']\n",
        "\n",
        "        if(sgl==selected_sgls[selected_sgls_cn]):\n",
        "            sgl_poly = row['geometry']\n",
        "            sgl_str = \"000\" + str(sgl)\n",
        "            sgl_str = sgl_str[-3:]\n",
        "\n",
        "    #print(\"sgl_poly\")\n",
        "    #print(sgl_poly)\n",
        "\n",
        "    all_prediction_data = gpd.read_file(\"/content/drive/My Drive/MaskCNNhearths/Weston_Uploads/Shapefiles/Jeff_Predict_8_30_Ben_106_32128_buffer_count_centroid.shp\")\n",
        "    #all_prediction_data.to_crs()\n",
        "    selection = all_prediction_data[0:]\n",
        "    #print(selection)\n",
        "\n",
        "    #Get a geodataframe to hold the points inside the poly\n",
        "    points_in_sgl_poly = gpd.GeoDataFrame()\n",
        "    points_in_sgl_poly['geometry'] = None\n",
        "    points_in_sgl_poly.crs = 32128\n",
        "\n",
        "    points_in_sgl_poly = gpd.GeoDataFrame(columns=[\"geometry\",\"bin\",\"bin_selected\"], crs=32128)\n",
        "    points_in_sgl_poly = points_in_sgl_poly.to_crs(32128)\n",
        "    points_in_sgl_poly.geometry = points_in_sgl_poly.geometry.to_crs(32128)\n",
        "\n",
        "    points_in_sgl_poly.geometry.crs = 32128\n",
        "    point_count = 0\n",
        "    for index, row in all_prediction_data.iterrows():\n",
        "        # print(\"for index, row in selection.iterrows():\")\n",
        "        pt = row['geometry']\n",
        "        #print(\"pt\",pt)\n",
        "        #print(row)\n",
        "        #select only points inside the bounds of the poly\n",
        "        if(pt.within(sgl_poly)==True):\n",
        "            #print(row)\n",
        "            point_count=point_count+1\n",
        "            # print(pt, pt.within(sgl_poly))\n",
        "            points_in_sgl_poly = points_in_sgl_poly.append(row, ignore_index=True)\n",
        "            #print(points_in_sgl_poly)\n",
        "            #print(len(points_in_sgl_poly))\n",
        "    print(sgl_str, \" point_count\",point_count)\n",
        "    \n",
        "    bin_1_bottom = .70\n",
        "    bin_2_bottom = .80\n",
        "    bin_3_bottom = .85\n",
        "    bin_4_bottom = .90\n",
        "    bin_5_bottom = .95\n",
        "    bin_rows = [[],[],[],[],[]]\n",
        "    for index, row in points_in_sgl_poly.iterrows():\n",
        "        scorenum = row['scorenum']\n",
        "        if(scorenum >= bin_1_bottom and scorenum < bin_2_bottom):\n",
        "            bin = 1            \n",
        "        elif(scorenum >= bin_2_bottom and scorenum < bin_3_bottom):\n",
        "            bin = 2\n",
        "        elif(scorenum >= bin_3_bottom and scorenum < bin_4_bottom):\n",
        "            bin = 3\n",
        "        elif(scorenum >= bin_4_bottom and scorenum < bin_5_bottom):\n",
        "            bin = 4\n",
        "        elif(scorenum >= bin_5_bottom):\n",
        "            bin = 5\n",
        "        bin_rows[bin-1].append(index)\n",
        "        #row['bin'] = bin\n",
        "        points_in_sgl_poly.at[index, \"bin\"] = bin\n",
        "        #initialize bin_selected\n",
        "        points_in_sgl_poly.at[index, \"bin_selected\"] = 0\n",
        "    #print(points_in_sgl_poly)\n",
        "    #print(bin_rows)\n",
        "    # For each bin, select four points\n",
        "    for bin_rows_cn in range(0,5):\n",
        "        #4 points less in the bin? - select them all\n",
        "        if(len(bin_rows[bin_rows_cn-1]) <= 4):\n",
        "            print(\"bin \", bin_rows_cn + 1, \" has 4 or less points.\")  \n",
        "            for bin_points_cn in range(0,len(bin_rows[bin_rows_cn-1])):\n",
        "                points_in_sgl_poly_index = bin_rows[bin_rows_cn-1][bin_points_cn]\n",
        "                points_in_sgl_poly.at[points_in_sgl_poly_index, \"bin_selected\"] = 1\n",
        "        else:\n",
        "            points_selected=0  \n",
        "            while(points_selected < 4):\n",
        "                selected_from_bin = random.randint(0,len(bin_rows[bin_rows_cn-1])-1)\n",
        "                # print(\"selected_from_bin\",selected_from_bin,len(bin_rows[bin_rows_cn-1]))\n",
        "                points_in_sgl_poly_index = bin_rows[bin_rows_cn-1][selected_from_bin]\n",
        "                if(points_in_sgl_poly.at[points_in_sgl_poly_index, \"bin_selected\"] != 1):\n",
        "                    points_in_sgl_poly.at[points_in_sgl_poly_index, \"bin_selected\"] = 1\n",
        "                    points_selected = points_selected + 1\n",
        "\n",
        "\n",
        "    outfp = os.path.join(shp_output_folder, (\"sample_predictions_binned_sgl_\" + sgl_str + \".shp\"))\n",
        "    # Write the data into that Shapefile\n",
        "    points_in_sgl_poly.to_file(outfp)\n"
      ],
      "execution_count": 43,
      "outputs": [
        {
          "output_type": "stream",
          "text": [
            "217  point_count 677\n",
            "013  point_count 71\n",
            "051  point_count 64\n",
            "039  point_count 125\n",
            "083  point_count 23\n",
            "bin  2  has 4 or less points.\n",
            "bin  3  has 4 or less points.\n",
            "bin  4  has 4 or less points.\n",
            "bin  5  has 4 or less points.\n",
            "076  point_count 21\n",
            "bin  2  has 4 or less points.\n",
            "bin  3  has 4 or less points.\n",
            "bin  4  has 4 or less points.\n",
            "033  point_count 56\n",
            "037  point_count 22\n",
            "bin  2  has 4 or less points.\n",
            "bin  3  has 4 or less points.\n",
            "bin  4  has 4 or less points.\n"
          ],
          "name": "stdout"
        }
      ]
    }
  ]
}